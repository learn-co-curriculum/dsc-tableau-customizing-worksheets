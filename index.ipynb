{
 "cells": [
  {
   "cell_type": "markdown",
   "metadata": {},
   "source": [
    "# Tableau Public - Building Worksheets"
   ]
  },
  {
   "cell_type": "markdown",
   "metadata": {},
   "source": [
    "## Introduction\n",
    "Now that you have learned of the many features of Tableau, it is time to put that knowledge to work and create your first worksheet. \n",
    "\n",
    "To begin this lesson, you should have already:\n",
    "1. Downloaded and installed Tableau Public.\n",
    "2. Downloaded the Superstore Sales Data set from Tableau Public resources.\n",
    "\n",
    "If you have not, refer to [Getting Started with Tableau](https://github.com/learn-co-curriculum/dsc-getting-started-with-tableau) to do that first."
   ]
  },
  {
   "cell_type": "markdown",
   "metadata": {},
   "source": [
    "## Learning Objectives\n",
    "You will be able to: \n",
    "* Load a data set to Tableau and create a workbook\n",
    "* Create a basic worksheet in a workbook\n",
    "* Format and stylize a basic Tableau visualization\n",
    "* Save and publish the worksheet to Tableau Public"
   ]
  },
  {
   "cell_type": "markdown",
   "metadata": {},
   "source": [
    "<div class=\"alert alert-success\">\n",
    "Your Turn: Load Data to Tableau and Create a Worksheet\n",
    "First, let's practice what we learned in the previous two lessons by creating a worksheet. Then we can use that worksheet to explore Tableau's functionality. \n",
    "\n",
    "1. First, load the previously Superstore Sales dataset from the __Start page__ via the __Connect Pane__. Now you have created a __Tableau workbook__.\n",
    "\n",
    "2. Upon loading the data, Tableau will launch the __Data Source page__. Select the __Worksheet icon__ from the sheets tab. Now you have created a new __worksheet__ in the workbook.\n",
    "\n",
    "3. Finally, populate the Data Source page by dragging the Orders table from the Left pane to the Canvas.\n",
    "    \n",
    "Example text highlighted in green background.</div>"
   ]
  },
  {
   "cell_type": "markdown",
   "metadata": {},
   "source": [
    "## Generate, Format, and Stylize a Visualization"
   ]
  },
  {
   "cell_type": "code",
   "execution_count": null,
   "metadata": {},
   "outputs": [],
   "source": []
  },
  {
   "cell_type": "markdown",
   "metadata": {},
   "source": [
    "## Save and Publish to Tableau Public"
   ]
  },
  {
   "cell_type": "markdown",
   "metadata": {},
   "source": [
    "## Summary\n",
    "In this lab, we loaded a data set to Tableau and create a workbook. Then, we created a worksheet and formatted a basic Tableau visualization Then, we saved and published the worksheet to Tableau Public.\n",
    "\n",
    "Now that we have mastered the basics, we will explore some of the most essential data visualizations that you can create with Tableau. "
   ]
  }
 ],
 "metadata": {
  "kernelspec": {
   "display_name": "Python 3",
   "language": "python",
   "name": "python3"
  },
  "language_info": {
   "codemirror_mode": {
    "name": "ipython",
    "version": 3
   },
   "file_extension": ".py",
   "mimetype": "text/x-python",
   "name": "python",
   "nbconvert_exporter": "python",
   "pygments_lexer": "ipython3",
   "version": "3.8.5"
  }
 },
 "nbformat": 4,
 "nbformat_minor": 2
}
